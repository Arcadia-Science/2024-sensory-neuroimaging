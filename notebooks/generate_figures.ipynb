{
 "cells": [
  {
   "cell_type": "markdown",
   "metadata": {},
   "source": [
    "# Generate figures for publication\n",
    "_[work in progress]_"
   ]
  },
  {
   "cell_type": "markdown",
   "metadata": {},
   "source": [
    "##  Tactile stimulation examples"
   ]
  },
  {
   "cell_type": "code",
   "execution_count": null,
   "metadata": {},
   "outputs": [],
   "source": [
    "import matplotlib.pyplot as plt\n",
    "import numpy as np\n",
    "from neuroprocessing.imagingtrials import ImagingTrialLoader\n",
    "from skimage.exposure import rescale_intensity\n",
    "from skimage.filters import gaussian\n",
    "from skimage.util import montage\n",
    "\n",
    "\n",
    "def plot_STA_img_and_dff(imaging_trial,\n",
    "                         trial_ROI,\n",
    "                         show_montage = True,\n",
    "                         flipLR = True,\n",
    "                         bleach_subtract = True,\n",
    "                         **dff_plot_kwargs):\n",
    "    \"\"\"\n",
    "    Generate a montage or max projection image of the stimulus-triggered average (STA) of the \n",
    "    imaging trial, along with the DF/F trace of the trial.\n",
    "    \"\"\"\n",
    "    mask = imaging_trial.load_mask()\n",
    "    _, t, dff = imaging_trial.get_sta_stack(1, 5, .5, trial_ROI)\n",
    "    sta_df, _, _ = imaging_trial.get_sta_stack(1, 5, .5)\n",
    "\n",
    "    # remove linear trend from dff (remnants of bleaching)\n",
    "    # only fit first and last 3 elements\n",
    "    if bleach_subtract:\n",
    "        dff = dff - np.polyval(np.polyfit(np.array([t[:3], t[-3:]]).flatten(),\n",
    "                                        np.array([dff[:3], dff[-3:]]).flatten(), 1),\n",
    "                                        t)\n",
    "\n",
    "    # avreage over trials\n",
    "    sta_df = sta_df.mean(axis=0)\n",
    "    # rescale to (0, 1), ignoring masked out areas\n",
    "    sta_df = rescale_intensity(sta_df,\n",
    "                               in_range=(sta_df[sta_df>0].min(), sta_df.max()),\n",
    "                               out_range=(0, 1),\n",
    "                               )\n",
    "\n",
    "    # add xy blur to sta_df image\n",
    "    sta_df = gaussian(sta_df, sigma=2, channel_axis=0)\n",
    "\n",
    "    # set everything outside the mask to 0\n",
    "    sta_df = sta_df * mask\n",
    "\n",
    "    if show_montage:\n",
    "        f, axs = plt.subplots(nrows=1, ncols=2, figsize=(8,5))\n",
    "        if flipLR:\n",
    "            sta_df = np.flip(sta_df, axis=2)\n",
    "        axs[0].imshow(montage(sta_df,\n",
    "                        fill = 0,\n",
    "                        padding_width = 20,\n",
    "                        rescale_intensity=False,\n",
    "                        grid_shape= None,\n",
    "                        ),\n",
    "                    cmap='inferno',\n",
    "                    )\n",
    "\n",
    "    else:\n",
    "        # max projection over time\n",
    "        sta_df_max = sta_df.max(axis=0)\n",
    "\n",
    "        f, axs = plt.subplots(1, 2, figsize=(5, 3))\n",
    "        axs[0].imshow(sta_df_max, cmap='inferno', aspect='auto')\n",
    "\n",
    "        if flipLR:\n",
    "            axs[0].invert_xaxis()\n",
    "\n",
    "    axs[0].axis('off')\n",
    "    axs[1].plot(t, dff)\n",
    "    axs[1].set_xlabel('Time (s)')\n",
    "    axs[1].set_ylabel('dF/F')\n",
    "    axs[1].set(**dff_plot_kwargs)\n",
    "\n",
    "    f.suptitle(imaging_trial)\n",
    "    plt.tight_layout()\n",
    "\n",
    "\n",
    "# Define ROIs for the LHL and RHL in the somatosensory cortex (SSC)\n",
    "ssc_LHL_roi = {\n",
    "    \"center\": (125,175),  # (x, y)\n",
    "    \"width\": 80,\n",
    "    \"height\": 80\n",
    "}\n",
    "ssc_RHL_roi = {\n",
    "    \"center\": (265,175),  # (x, y)\n",
    "    \"width\": 80,\n",
    "    \"height\": 80\n",
    "}\n",
    "\n",
    "ssc_LHL_lido_roi = {\n",
    "    \"center\": (175,225),  # (x, y)\n",
    "    \"width\": 60,\n",
    "    \"height\": 60\n",
    "}"
   ]
  },
  {
   "cell_type": "markdown",
   "metadata": {},
   "source": [
    "### RHL example trial"
   ]
  },
  {
   "cell_type": "code",
   "execution_count": null,
   "metadata": {},
   "outputs": [],
   "source": [
    "imaging_trials = ImagingTrialLoader('/Users/ilya_arcadia/Neuroimaging_local/Processed/Injections')\n",
    "imaging_trials.filter(exp_dir='2024-02-29',# \"2024-03-19\",\n",
    "                      limb='RHL',\n",
    "                      rec_time='5min',\n",
    "                     )\n",
    "trial = imaging_trials.trials[0]\n",
    "\n",
    "plot_STA_img_and_dff(trial,\n",
    "                     ssc_RHL_roi,\n",
    "                     show_montage=False,\n",
    "                     flipLR=True,\n",
    "                     bleach_subtract=True,\n",
    "                     ylim=[-0.03, 0.03])\n",
    "\n"
   ]
  },
  {
   "cell_type": "markdown",
   "metadata": {},
   "source": [
    "### LHL example trial"
   ]
  },
  {
   "cell_type": "code",
   "execution_count": null,
   "metadata": {},
   "outputs": [],
   "source": [
    "imaging_trials = ImagingTrialLoader('/Users/ilya_arcadia/Neuroimaging_local/Processed/Injections')\n",
    "imaging_trials.filter(exp_dir='2024-02-29',# \"2024-03-19\",\n",
    "                      limb='LHL',\n",
    "                      rec_time='5min',\n",
    "                      remainder='.*pt25pctISO_2'\n",
    "                     )\n",
    "trial = imaging_trials.trials[0]\n",
    "\n",
    "plot_STA_img_and_dff(trial,\n",
    "                     ssc_LHL_roi,\n",
    "                     show_montage=False,\n",
    "                     flipLR=True,\n",
    "                     bleach_subtract=True,\n",
    "                     ylim=[-0.03, 0.03])"
   ]
  },
  {
   "cell_type": "markdown",
   "metadata": {},
   "source": [
    "### RFL example trial"
   ]
  },
  {
   "cell_type": "code",
   "execution_count": null,
   "metadata": {},
   "outputs": [],
   "source": [
    "# RFL trial\n",
    "ssc_RFL_roi = {\n",
    "    \"center\": (335,210),  # (x, y)\n",
    "    \"width\": 50,\n",
    "    \"height\": 50\n",
    "}\n",
    "# RFL trial\n",
    "imaging_trials = ImagingTrialLoader('/Users/ilya_arcadia/Neuroimaging_local/Processed/Injections')\n",
    "imaging_trials.filter(exp_dir='2024-02-21',# \"2024-03-19\",\n",
    "                      limb='RFL',\n",
    "                      rec_time='5min',\n",
    "                     )\n",
    "trial = imaging_trials.trials[0]\n",
    "\n",
    "plot_STA_img_and_dff(trial,\n",
    "                     ssc_RFL_roi,\n",
    "                     show_montage=False,\n",
    "                     flipLR=True,\n",
    "                     bleach_subtract=True,\n",
    "                     ylim=[-0.03, 0.03])"
   ]
  },
  {
   "cell_type": "markdown",
   "metadata": {},
   "source": [
    "# Lidocaine results\n",
    " * Tactile stimulation before and after localized lidocaine administration with saline as control"
   ]
  },
  {
   "cell_type": "code",
   "execution_count": null,
   "metadata": {},
   "outputs": [],
   "source": [
    "imaging_trials = ImagingTrialLoader('/Users/ilya_arcadia/Neuroimaging_local/Processed/Injections')\n",
    "imaging_trials.filter(exp_dir='2024-02-21',\n",
    "                      limb='LHL',\n",
    "                      rec_time='5min',\n",
    "                     )\n",
    "\n",
    "\n",
    "trial_pre = [t for t in imaging_trials if 'Zyla_5min_LHLstim_2son4soff_1pt25pctISO_deeper_1' in str(t)][0]\n",
    "trial_post = [t for t in imaging_trials if 'Zyla_5min_LHLstim_2son4soff_1pt25pctISO_deeper_postlidocaine_2' in str(t)][0]\n",
    "trial_sal = [t for t in imaging_trials if 'Zyla_5min_LHLstim_2son4soff_1pt25pctISO_deeper_postsaline_1' in str(t)][0]\n",
    "\n",
    "plot_STA_img_and_dff(trial_pre, ssc_LHL_lido_roi, show_montage=True, bleach_subtract=True, ylim=[-0.03,.03])\n",
    "plot_STA_img_and_dff(trial_post, ssc_LHL_lido_roi, show_montage=True, bleach_subtract=False, ylim=[-0.03,.03])\n",
    "plot_STA_img_and_dff(trial_sal, ssc_LHL_lido_roi, show_montage=True, bleach_subtract=False, ylim=[-0.03,.03])\n"
   ]
  },
  {
   "cell_type": "markdown",
   "metadata": {},
   "source": [
    "# Injection analysis\n",
    " * Stimulation always happens at t=60 seconds"
   ]
  },
  {
   "cell_type": "markdown",
   "metadata": {},
   "source": [
    "## Capsaicin trials\n"
   ]
  },
  {
   "cell_type": "markdown",
   "metadata": {},
   "source": [
    "### Different limbs trial (2024-03-19)"
   ]
  },
  {
   "cell_type": "code",
   "execution_count": null,
   "metadata": {},
   "outputs": [],
   "source": [
    "def plot_montage_and_trace_pairs(imaging_trials, colors,\n",
    "                                 montage_grid_shape = None, trace_ylim = None, trace_xlim = None):\n",
    "    fig, axs = plt.subplots(nrows=2, ncols=2, figsize=(8,5),\n",
    "                            gridspec_kw={'height_ratios': [3, 1],\n",
    "                                         'width_ratios': [1,1],\n",
    "                                         'wspace' : .1,\n",
    "                                         'hspace' : .05,\n",
    "                                         }\n",
    "                            )\n",
    "    for trial,ax, line_color in zip(imaging_trials, axs.T, colors):\n",
    "        # montage plot\n",
    "        trial.plot_montage(s_start = 0,\n",
    "                           s_end = 1200,\n",
    "                           s_step = 30,\n",
    "                           montage_grid_shape = montage_grid_shape,\n",
    "                           ax=ax[0],\n",
    "                           cmap='inferno',\n",
    "                           aspect='equal')\n",
    "        ax[0].axis('off')\n",
    "\n",
    "        # trace plot\n",
    "        t, trace = trial.load_trace()\n",
    "        trace = trace - np.polyval(np.polyfit(t, trace, 1), t)\n",
    "        trace = trace - trace[np.where(t >= 0)[0][0]]\n",
    "        ax[1].plot(t, trace, color=line_color)\n",
    "        ax[1].axvline(x=0, color='k', linestyle='--')\n",
    "        ax[1].set_xlim(trace_xlim)\n",
    "        ax[1].set_ylim(trace_ylim)\n",
    "    axs[1,1].set_yticks([])\n",
    "\n",
    "COLOR_SALINE = '#336699'\n",
    "COLOR_HIST = '#33CC99'\n",
    "COLOR_CAPSAICIN = '#FF3333'\n",
    "\n",
    "# in this experiment, LHL was injected with vehicle, RHL with capsicin\n",
    "inj_trials = ImagingTrialLoader('/Users/ilya_arcadia/Neuroimaging_local/Processed/Injections')\n",
    "inj_trials.filter(exp_dir='2024-03-19',\n",
    "                  limb='(L|R)HL$',\n",
    "                 )\n",
    "plot_montage_and_trace_pairs(inj_trials,\n",
    "                             [COLOR_SALINE, COLOR_CAPSAICIN],\n",
    "                             montage_grid_shape = None,\n",
    "                             trace_ylim = [-1000,2500],\n",
    "                             trace_xlim = [-50, 1400]\n",
    "                             )\n"
   ]
  },
  {
   "cell_type": "markdown",
   "metadata": {},
   "source": [
    "### Same limb trial (2024-03-20)"
   ]
  },
  {
   "cell_type": "code",
   "execution_count": null,
   "metadata": {},
   "outputs": [],
   "source": [
    "# in this experiment, both injections were done in LHL\n",
    "inj_trials = ImagingTrialLoader('/Users/ilya_arcadia/Neuroimaging_local/Processed/Injections')\n",
    "inj_trials.filter(exp_dir='2024-03-18',# \"2024-03-19\",\n",
    "                  limb='LHL',\n",
    "                  injection_type='.*inj'\n",
    "                 )\n",
    "\n",
    "plot_montage_and_trace_pairs(inj_trials,\n",
    "                             [COLOR_SALINE, COLOR_CAPSAICIN],\n",
    "                             montage_grid_shape = None,\n",
    "                             trace_ylim = [-1000,3000],\n",
    "                             trace_xlim = [-50, 1400]\n",
    "                             )\n"
   ]
  },
  {
   "cell_type": "markdown",
   "metadata": {},
   "source": [
    "### Nape trial"
   ]
  },
  {
   "cell_type": "code",
   "execution_count": null,
   "metadata": {},
   "outputs": [],
   "source": [
    "# in this experiment, both injections were done in LHL\n",
    "inj_trials = ImagingTrialLoader('/Users/ilya_arcadia/Neuroimaging_local/Processed/Injections')\n",
    "inj_trials.filter(exp_dir='2024-03-18',# \"2024-03-19\",\n",
    "                  limb='nape',\n",
    "                  injection_type='.*inj'\n",
    "                 )\n",
    "\n",
    "# reverse order to plot saline first\n",
    "inj_trials = inj_trials[-1::-1]\n",
    "plot_montage_and_trace_pairs(inj_trials,\n",
    "                             [COLOR_SALINE, COLOR_CAPSAICIN],\n",
    "                             montage_grid_shape = None,\n",
    "                             trace_ylim = [-200,200],\n",
    "                             trace_xlim = [-50, 1400]\n",
    "                             )\n"
   ]
  },
  {
   "cell_type": "markdown",
   "metadata": {},
   "source": [
    "## Histamine trials"
   ]
  },
  {
   "cell_type": "markdown",
   "metadata": {},
   "source": [
    "### RHL trial (2024-02-29)"
   ]
  },
  {
   "cell_type": "code",
   "execution_count": null,
   "metadata": {},
   "outputs": [],
   "source": [
    "import matplotlib.pyplot as plt\n",
    "import numpy as np\n",
    "from neuroprocessing.imagingtrials import ImagingTrialLoader\n",
    "\n",
    "# in this experiment, both injections were done in RHL\n",
    "inj_trials = ImagingTrialLoader('/Users/ilya_arcadia/Neuroimaging_local/Processed/Injections')\n",
    "inj_trials.filter(exp_dir='2024-02-29',# \"2024-03-19\",\n",
    "                  limb='RHL$',\n",
    "                  injection_type='.*inj'\n",
    "                )\n",
    "\n",
    "plot_montage_and_trace_pairs(inj_trials,\n",
    "                             [COLOR_SALINE, COLOR_HIST],\n",
    "                             montage_grid_shape = None,\n",
    "                             trace_ylim = [-200,500],\n",
    "                             trace_xlim = [-50, 1400]\n",
    "                             )"
   ]
  },
  {
   "cell_type": "markdown",
   "metadata": {},
   "source": [
    "### LHL trial (2024-02-29)"
   ]
  },
  {
   "cell_type": "code",
   "execution_count": null,
   "metadata": {},
   "outputs": [],
   "source": [
    "# in this experiment, both injections were done in RHL\n",
    "inj_trials = ImagingTrialLoader('/Users/ilya_arcadia/Neuroimaging_local/Processed/Injections')\n",
    "inj_trials.filter(exp_dir='2024-02-29',# \"2024-03-19\",\n",
    "                  limb='LHL$',\n",
    "                  injection_type='.*inj'\n",
    "                )\n",
    "\n",
    "# reverse order to plot vehicle first\n",
    "inj_trials = inj_trials[-1::-1]\n",
    "plot_montage_and_trace_pairs(inj_trials,\n",
    "                             [COLOR_SALINE, COLOR_HIST],\n",
    "                             montage_grid_shape = None,\n",
    "                             trace_ylim = [-200,500],\n",
    "                             trace_xlim = [-50, 1400]\n",
    "                             )"
   ]
  },
  {
   "cell_type": "markdown",
   "metadata": {},
   "source": [
    "### RHL trial (2024-03-06)"
   ]
  },
  {
   "cell_type": "code",
   "execution_count": null,
   "metadata": {},
   "outputs": [],
   "source": [
    "# in this experiment, both injections were done in RHL\n",
    "inj_trials = ImagingTrialLoader('/Users/ilya_arcadia/Neuroimaging_local/Processed/Injections')\n",
    "inj_trials.filter(exp_dir='2024-03-06',# \"2024-03-19\",\n",
    "                  limb='RHL$',\n",
    "                  injection_type='.*inj'\n",
    "                 )\n",
    "\n",
    "# reverse order to plot vehicle first\n",
    "inj_trials = inj_trials[-1::-1]\n",
    "plot_montage_and_trace_pairs(inj_trials,\n",
    "                             [COLOR_SALINE, COLOR_HIST],\n",
    "                             montage_grid_shape = None,\n",
    "                             trace_ylim = [-300,500],\n",
    "                             trace_xlim = [-50, 1400]\n",
    "                             )"
   ]
  },
  {
   "cell_type": "markdown",
   "metadata": {},
   "source": [
    "### LHL trial (2024-03-06)"
   ]
  },
  {
   "cell_type": "code",
   "execution_count": null,
   "metadata": {},
   "outputs": [],
   "source": [
    "# in this experiment, both injections were done in RHL\n",
    "inj_trials = ImagingTrialLoader('/Users/ilya_arcadia/Neuroimaging_local/Processed/Injections')\n",
    "inj_trials.filter(exp_dir='2024-03-06',# \"2024-03-19\",\n",
    "                  limb='LHL$',\n",
    "                  injection_type='.*inj'\n",
    "                )\n",
    "\n",
    "plot_montage_and_trace_pairs(inj_trials,\n",
    "                             [COLOR_SALINE, COLOR_HIST],\n",
    "                             montage_grid_shape = None,\n",
    "                             trace_ylim = [-300,500],\n",
    "                             trace_xlim = [-50, 1400]\n",
    "                             )"
   ]
  }
 ],
 "metadata": {
  "kernelspec": {
   "display_name": "Python 3 (ipykernel)",
   "language": "python",
   "name": "python3"
  },
  "language_info": {
   "codemirror_mode": {
    "name": "ipython",
    "version": 3
   },
   "file_extension": ".py",
   "mimetype": "text/x-python",
   "name": "python",
   "nbconvert_exporter": "python",
   "pygments_lexer": "ipython3",
   "version": "3.11.7"
  }
 },
 "nbformat": 4,
 "nbformat_minor": 4
}
