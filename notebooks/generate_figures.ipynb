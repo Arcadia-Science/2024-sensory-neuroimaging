{
 "cells": [
  {
   "cell_type": "markdown",
   "metadata": {},
   "source": [
    "# Generate figures for publication\n"
   ]
  },
  {
   "cell_type": "code",
   "execution_count": null,
   "metadata": {},
   "outputs": [],
   "source": [
    "from neuroprocessing.imagingtrials import ImagingTrialLoader\n",
    "import matplotlib.pyplot as plt\n",
    "import numpy as np\n",
    "params = {\n",
    "        \"downsample_factor\": 8,\n",
    "        \"aligner_target_num_features\": 700,\n",
    "        \"secs_before_stim\": 60, # only process frames starting at X seconds before stimulus\n",
    "        \"preprocess_prefix\": \"aligned_downsampled_\",\n",
    "        \"process_prefix\": 'processed_',\n",
    "        \"s3fs_toplvl_path\": \"/Users/ilya_arcadia/arcadia-neuroimaging-pruritogens/Videos\",\n",
    "        \"local_toplvl_path\": \"/Users/ilya_arcadia/Neuroimaging_local/Processed/Injections/\",\n",
    "        \"load_from_s3\": False,\n",
    "        \"save_to_s3\": False,\n",
    "        'crop_px' : 20,\n",
    "        'bottom_percentile' : 5\n",
    "        }\n",
    "\n",
    "trials = ImagingTrialLoader(params)\n",
    "exp_dates, trial_names = trials.filter_exp_and_trial_dirs(exp_dir=\"2024-03-20-F1Num8REP\",\n",
    "                                                          limb='RHL'\n",
    "                                                        )\n",
    "# exp_dates, trial_names = trials.filter_exp_and_trial_dirs()\n",
    "\n",
    "masks = trials.load_mask_files()\n",
    "traces = trials.load_traces()\n",
    "sync_infos = trials.get_sync_infos()\n",
    "# Plot the traces\n",
    "\n",
    "fig, ax = plt.subplots(figsize=(5,3))\n",
    "for trace, exp_date, trial_name, sync in zip(traces, exp_dates, trial_names, sync_infos):\n",
    "    t = (np.arange(0, len(trace))) / (sync['framerate_hz'] / params['downsample_factor']) - params['secs_before_stim']\n",
    "    trace = trace - trace[np.where(t >= 0)[0][0]]\n",
    "    # remove slope\n",
    "    trace = trace - np.polyval(np.polyfit(t, trace, 1), t)\n",
    "    ax.plot(t, trace, label=exp_date + ' ' + trial_name)\n",
    "# legend to the right of the plot\n",
    "# ax.legend(loc='upper left', bbox_to_anchor=(1, 1))\n",
    "ax.axvline(x=0, color='r', linestyle='--')\n",
    "ax.set_xlabel('Time (s)')\n",
    "ax.set_ylabel('Response (a.u.)')\n",
    "ax.set_xlim([-50, 600])\n",
    "# plot masks\n",
    "fig, axs = plt.subplots(ncols=len(masks), figsize=(15, 7))\n",
    "for ax, mask, exp_date, trial_name in zip(axs, masks, exp_dates, trial_names):\n",
    "    ax.imshow(mask, cmap='gray')\n",
    "    # remove axis ticks\n",
    "    ax.set_xticks([])\n",
    "    ax.set_yticks([])\n",
    "    ax.set_title(exp_date + ' ' + trial_name, fontsize=8)\n",
    "plt.tight_layout()\n"
   ]
  }
 ],
 "metadata": {
  "kernelspec": {
   "display_name": "Python 3 (ipykernel)",
   "language": "python",
   "name": "python3"
  },
  "language_info": {
   "codemirror_mode": {
    "name": "ipython",
    "version": 3
   },
   "file_extension": ".py",
   "mimetype": "text/x-python",
   "name": "python",
   "nbconvert_exporter": "python",
   "pygments_lexer": "ipython3",
   "version": "3.11.7"
  }
 },
 "nbformat": 4,
 "nbformat_minor": 4
}
