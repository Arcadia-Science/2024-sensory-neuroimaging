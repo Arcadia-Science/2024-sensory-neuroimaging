{
 "cells": [
  {
   "cell_type": "markdown",
   "metadata": {},
   "source": [
    "# Generate figures for publication"
   ]
  },
  {
   "cell_type": "markdown",
   "metadata": {},
   "source": [
    "##  Tactile stimulation results\n",
    "\n",
    "Example imaging trials during tactile stimulation of the limbs. The code generates a maximum projection image of the stimulus-triggered average (STA) and a background-subtracted, normalized trace (called DF/F) of a pre-defined ROI (region of interest). The code also outputs the STA as a TIFF stack, and the whole figure as a vectorized PDF.\n",
    "\n",
    "### Trials:\n",
    " * RHL: right hindlimb\n",
    " * LHL: left hindlimb\n",
    " * RFL: right forelimb"
   ]
  },
  {
   "cell_type": "code",
   "execution_count": null,
   "metadata": {},
   "outputs": [],
   "source": [
    "import os\n",
    "\n",
    "import matplotlib as mpl\n",
    "import matplotlib.pyplot as plt\n",
    "from neuroprocessing.imagingtrials import ImagingTrialsLoader\n",
    "from neuroprocessing.pipeline import load_user_config\n",
    "from neuroprocessing.plots_for_pub import (\n",
    "    plot_montage_and_trace_pairs,\n",
    "    plot_STA_img_and_dff,\n",
    ")\n",
    "\n",
    "# this will load 'default.json' config. modify this to point to your config file\n",
    "config = load_user_config(\"default\")\n",
    "\n",
    "plt.style.use(\"arcadia_updated.mplstyle\")\n",
    "\n",
    "\n",
    "# Define ROIs for the LHL and RHL in the somatosensory cortex (SSC)\n",
    "# note: this is defined in non-flipped coordinates!\n",
    "\n",
    "ssc_LHL_roi = {\n",
    "    \"center\": (125, 175),  # (x, y)\n",
    "    \"width\": 80,\n",
    "    \"height\": 80,\n",
    "}\n",
    "ssc_RHL_roi = {\n",
    "    \"center\": (265, 175),  # (x, y)\n",
    "    \"width\": 80,\n",
    "    \"height\": 80,\n",
    "}\n",
    "\n",
    "ssc_RFL_roi = {\n",
    "    \"center\": (335, 210),  # (x, y)\n",
    "    \"width\": 50,\n",
    "    \"height\": 50,\n",
    "}\n",
    "\n",
    "os.makedirs(\"figs\", exist_ok=True)"
   ]
  },
  {
   "cell_type": "markdown",
   "metadata": {},
   "source": [
    "### RHL trial (Figure 2B)\n",
    "* ID: `2024-02-29/Zyla_5min_RHLstim_2son4soff_1pt25pctISO_1`"
   ]
  },
  {
   "cell_type": "code",
   "execution_count": null,
   "metadata": {},
   "outputs": [],
   "source": [
    "imaging_trials = ImagingTrialsLoader(config[\"processed_data_dir\"])\n",
    "imaging_trials.filter(\n",
    "    exp_dir=\"2024-02-29\",\n",
    "    limb=\"RHL\",\n",
    "    rec_time=\"5min\",\n",
    ")\n",
    "trial = imaging_trials.filtered_trials[0]\n",
    "\n",
    "img = plot_STA_img_and_dff(\n",
    "    trial,\n",
    "    ssc_RHL_roi,\n",
    "    show_montage=False,\n",
    "    flipLR=True,\n",
    "    bleach_subtract=True,\n",
    "    tiff_out=\"figs/STA_RHL.tif\",\n",
    "    pdf_out=\"figs/STA_RHL.pdf\",\n",
    "    ylim=[-0.01, 0.035],\n",
    "    xlim=[-0.05, 6.05],\n",
    ")\n",
    "\n",
    "# add colorbar\n",
    "cmap = mpl.cm.inferno\n",
    "norm = mpl.colors.Normalize(vmin=0, vmax=1)\n",
    "f_colorbar, ax_colorbar = plt.subplots(figsize=(7, 0.5))\n",
    "\n",
    "cb1 = mpl.colorbar.ColorbarBase(ax_colorbar, cmap=cmap, norm=norm, orientation=\"horizontal\")\n",
    "\n",
    "cb1.set_label(\"dF/F (norm.)\", fontname=plt.rcParams[\"font.sans-serif\"][0], fontweight=\"medium\")\n",
    "cb1.ax.tick_params(labelfontfamily=plt.rcParams[\"font.monospace\"][0])\n",
    "\n",
    "f_colorbar.savefig(\"figs/STA_RHL_colorbar.pdf\", bbox_inches=\"tight\")"
   ]
  },
  {
   "cell_type": "markdown",
   "metadata": {},
   "source": [
    "### LHL trial (Figure 2C)\n",
    "* ID: `2024-02-29/Zyla_5min_LHLstim_2son4soff_1pt25pctISO_2`"
   ]
  },
  {
   "cell_type": "code",
   "execution_count": null,
   "metadata": {},
   "outputs": [],
   "source": [
    "imaging_trials.reset_filter()\n",
    "\n",
    "imaging_trials.filter(exp_dir=\"2024-02-29\", limb=\"LHL\", rec_time=\"5min\", remainder=\".*pt25pctISO_2\")\n",
    "trial = imaging_trials.filtered_trials[0]\n",
    "\n",
    "plot_STA_img_and_dff(\n",
    "    trial,\n",
    "    ssc_LHL_roi,\n",
    "    show_montage=False,\n",
    "    flipLR=True,\n",
    "    bleach_subtract=True,\n",
    "    tiff_out=\"figs/STA_LHL.tif\",\n",
    "    pdf_out=\"figs/STA_LHL.pdf\",\n",
    "    ylim=[-0.01, 0.035],\n",
    "    xlim=[-0.05, 6.05],\n",
    ")"
   ]
  },
  {
   "cell_type": "markdown",
   "metadata": {},
   "source": [
    "### RFL trial (Figure 2D)\n",
    "* ID: `2024-02-21/Zyla_5min_RFLstim_2son4soff_1pt25pctISO_deeper_2`"
   ]
  },
  {
   "cell_type": "code",
   "execution_count": null,
   "metadata": {},
   "outputs": [],
   "source": [
    "imaging_trials.reset_filter()\n",
    "imaging_trials.filter(\n",
    "    exp_dir=\"2024-02-21\",\n",
    "    limb=\"RFL\",\n",
    "    rec_time=\"5min\",\n",
    ")\n",
    "trial = imaging_trials.filtered_trials[0]\n",
    "\n",
    "plot_STA_img_and_dff(\n",
    "    trial,\n",
    "    ssc_RFL_roi,\n",
    "    show_montage=False,\n",
    "    flipLR=True,\n",
    "    bleach_subtract=True,\n",
    "    tiff_out=\"figs/STA_RFL.tif\",\n",
    "    pdf_out=\"figs/STA_RFL.pdf\",\n",
    "    ylim=[-0.01, 0.035],\n",
    "    xlim=[-0.05, 6.05],\n",
    ")"
   ]
  },
  {
   "cell_type": "markdown",
   "metadata": {},
   "source": [
    "## Injection results\n",
    "\n",
    "Example imaging trials following injections of capsaicin or histamine (and controls). The code generates a montage of whole-brain activity, and a background-subtracted, normalized trace (DF/F) of a the full brain or a pre-defined ROI. The code also outputs the whole-brain activity as a TIFF stack, and the whole figure as a vectorized PDF.\n",
    "\n",
    "*Note: all figures were flipped horizontally in the publication to match the orientation of the brain in the atlas.*\n",
    "\n",
    "### Trials:\n",
    " * Capsaicin trials: capsaicin injection (studying pain response)\n",
    "   * Injection into different limbs\n",
    "   * Injection into the same limb\n",
    "   * Injection into the nape of the neck\n",
    " * Histamine: histamine injection (studying itch response)\n",
    "   * Injection into right hindlimb (RHL) (two examples)\n",
    "   * Injection into left hindlimb (LHL) (two examples)\n",
    "\n"
   ]
  },
  {
   "cell_type": "code",
   "execution_count": null,
   "metadata": {},
   "outputs": [],
   "source": [
    "COLOR_SALINE = {\"line\": \"#336699\", \"fill\": \"#73B5E3\"}\n",
    "COLOR_HIST = {\"line\": \"#B77A18\", \"fill\": \"#F5E4BE\"}\n",
    "COLOR_CAPSAICIN = {\"line\": \"#F28360\", \"fill\": \"#FCCEAE\"}"
   ]
  },
  {
   "cell_type": "markdown",
   "metadata": {},
   "source": [
    "#### Same limb trial (Figure 3B)\n",
    "Injection of capsaicin and control into the same (left) hindlimb.\n",
    "\n",
    "* IDs\n",
    "    * Control: `2024-03-18/Zyla_15min_LHL_carrierinj_1pt25pctISO_1`\n",
    "    * Capsaicin: `2024-03-18/Zyla_30min_LHL_capsacirinj_1pt25pctISO_1`"
   ]
  },
  {
   "cell_type": "code",
   "execution_count": null,
   "metadata": {},
   "outputs": [],
   "source": [
    "imaging_trials.reset_filter()\n",
    "imaging_trials.filter(exp_dir=\"2024-03-18\", limb=\"LHL\", injection_type=\".*inj\")\n",
    "\n",
    "plot_montage_and_trace_pairs(\n",
    "    imaging_trials,\n",
    "    [COLOR_SALINE, COLOR_CAPSAICIN],\n",
    "    montage_grid_shape=None,\n",
    "    trace_ylim=[-1.5, 4],\n",
    "    trace_xlim=[-50, 1400],\n",
    "    tiff_out=\"figs/same_limb_\",\n",
    "    pdf_out=\"figs/same_limb.pdf\",\n",
    ")"
   ]
  },
  {
   "cell_type": "markdown",
   "metadata": {},
   "source": [
    "#### Different limbs trial (Figure 3C)\n",
    "Injection of capsaicin and control into different hindlimbs (vehicle into LHL, capsaicin into RHL).\n",
    "\n",
    "* IDs\n",
    "    * Control: `2024-03-19/Zyla_15min_LHL_carrierinj_1pt5pctISO_1_1`\n",
    "    * Capsaicin: `2024-03-19/Zyla_30min_RHL_40ugin10uL_1pt5pctISO_1_1`\n"
   ]
  },
  {
   "cell_type": "code",
   "execution_count": null,
   "metadata": {},
   "outputs": [],
   "source": [
    "imaging_trials.reset_filter()\n",
    "imaging_trials.filter(\n",
    "    exp_dir=\"2024-03-19\",\n",
    "    limb=\"(L|R)HL$\",\n",
    ")\n",
    "\n",
    "plot_montage_and_trace_pairs(\n",
    "    imaging_trials,\n",
    "    [COLOR_SALINE, COLOR_CAPSAICIN],\n",
    "    montage_grid_shape=None,\n",
    "    trace_ylim=[-1, 2],\n",
    "    trace_xlim=[-50, 1400],\n",
    "    tiff_out=\"figs/diff_limbs_\",\n",
    "    pdf_out=\"figs/diff_limbs.pdf\",\n",
    ")"
   ]
  },
  {
   "cell_type": "markdown",
   "metadata": {},
   "source": [
    "#### Nape trial (Figure 3D)\n",
    "\n",
    "Injection of capsaicin into the nape of the neck (both vehicle and capsaicin).\n",
    "\n",
    "* IDs\n",
    "    * Control: `2024-03-18/Zyla_15min_nape_carrierinj_1pt25pctISO_1`\n",
    "    * Capsaicin: `2024-03-18/Zyla_30min_nape_40ugin10uLcapsacininj_1pt25pctISO_1`"
   ]
  },
  {
   "cell_type": "code",
   "execution_count": null,
   "metadata": {},
   "outputs": [],
   "source": [
    "imaging_trials.reset_filter()\n",
    "imaging_trials.filter(exp_dir=\"2024-03-18\", limb=\"nape\", injection_type=\".*inj\")\n",
    "\n",
    "nape_roi = {\n",
    "    \"center\": (288, 266),  # (x, y)\n",
    "    \"width\": 50,\n",
    "    \"height\": 50,\n",
    "}\n",
    "\n",
    "plot_montage_and_trace_pairs(\n",
    "    imaging_trials[-1::-1],  # reverse order to plot saline first\n",
    "    [COLOR_SALINE, COLOR_CAPSAICIN],\n",
    "    montage_grid_shape=None,\n",
    "    trace_ylim=[-1.5, 0.5],\n",
    "    trace_xlim=[-50, 500],\n",
    "    trace_roi=nape_roi,\n",
    "    tiff_out=\"figs/nape_\",\n",
    "    pdf_out=\"figs/nape.pdf\",\n",
    ")"
   ]
  },
  {
   "cell_type": "markdown",
   "metadata": {},
   "source": [
    "### Histamine trials"
   ]
  },
  {
   "cell_type": "markdown",
   "metadata": {},
   "source": [
    "#### LHL trial (Figure 4B)\n",
    "\n",
    "* IDs\n",
    "    * Control: `2024-02-29/Zyla_15min_LHL_salineinj_withpushbutton_1`\n",
    "    * Histamine: `2024-02-29/Zyla_30min_LHL_50uL27MMHistinj_withpushbutton_1`"
   ]
  },
  {
   "cell_type": "code",
   "execution_count": null,
   "metadata": {},
   "outputs": [],
   "source": [
    "imaging_trials.reset_filter()\n",
    "imaging_trials.filter(exp_dir=\"2024-02-29\", limb=\"LHL$\", injection_type=\".*inj\")\n",
    "\n",
    "plot_montage_and_trace_pairs(\n",
    "    imaging_trials[-1::-1],\n",
    "    [COLOR_SALINE, COLOR_HIST],\n",
    "    montage_grid_shape=None,\n",
    "    trace_ylim=[-1, 1],\n",
    "    trace_xlim=[-50, 1400],\n",
    "    tiff_out=\"figs/hist_lhl20240229_\",\n",
    "    pdf_out=\"figs/hist_lhl20240229.pdf\",\n",
    ")"
   ]
  },
  {
   "cell_type": "markdown",
   "metadata": {},
   "source": [
    "#### RHL trial (Figure 4C)\n",
    "\n",
    "* IDs\n",
    "    * Control: `2024-02-29/Zyla_15min_RHL_salineinj_withpushbutton_1`\n",
    "    * Histamine: `2024-02-29/Zyla_30min_RHL_50uL27MMHistinj_withpushbutton_1`"
   ]
  },
  {
   "cell_type": "code",
   "execution_count": null,
   "metadata": {},
   "outputs": [],
   "source": [
    "imaging_trials.reset_filter()\n",
    "imaging_trials.filter(exp_dir=\"2024-02-29\", limb=\"RHL$\", injection_type=\".*inj\")\n",
    "\n",
    "plot_montage_and_trace_pairs(\n",
    "    imaging_trials,\n",
    "    [COLOR_SALINE, COLOR_HIST],\n",
    "    montage_grid_shape=None,\n",
    "    trace_ylim=[-1, 1],\n",
    "    trace_xlim=[-50, 1400],\n",
    "    tiff_out=\"figs/hist_rhl20240229_\",\n",
    "    pdf_out=\"figs/hist_rhl20240229.pdf\",\n",
    ")"
   ]
  },
  {
   "cell_type": "markdown",
   "metadata": {},
   "source": [
    "#### RHL trial (another example, not shown in main text)\n",
    "\n",
    "* IDs\n",
    "    * Control: `2024-03-06/Zyla_15min_RHL_salineinj_1pt25pctISO_1`\n",
    "    * Histamine: `2024-03-06/Zyla_30min_RHL_27mMhistinj_1pt25pctISO_1`"
   ]
  },
  {
   "cell_type": "code",
   "execution_count": null,
   "metadata": {},
   "outputs": [],
   "source": [
    "imaging_trials.reset_filter()\n",
    "imaging_trials.filter(exp_dir=\"2024-03-06\", limb=\"RHL$\", injection_type=\".*inj\")\n",
    "\n",
    "\n",
    "plot_montage_and_trace_pairs(\n",
    "    imaging_trials[-1::-1],\n",
    "    [COLOR_SALINE, COLOR_HIST],\n",
    "    montage_grid_shape=None,\n",
    "    trace_ylim=[-1, 1],\n",
    "    trace_xlim=[-50, 1400],\n",
    "    tiff_out=\"figs/hist_rhl20240306_\",\n",
    "    pdf_out=\"figs/hist_rhl20240306.pdf\",\n",
    ")"
   ]
  },
  {
   "cell_type": "markdown",
   "metadata": {},
   "source": [
    "#### LHL trial (another example, not shown in main text)\n",
    "\n",
    "* IDs\n",
    "    * Control: `2024-03-06/Zyla_15min_LHL_salineinj_1pt75pctISO_1`\n",
    "    * Histamine: `2024-03-06/Zyla_30min_LHL_27mMhistinj_1pt75pctISO_1`"
   ]
  },
  {
   "cell_type": "code",
   "execution_count": null,
   "metadata": {},
   "outputs": [],
   "source": [
    "imaging_trials.reset_filter()\n",
    "imaging_trials.filter(exp_dir=\"2024-03-06\", limb=\"LHL$\", injection_type=\".*inj\")\n",
    "\n",
    "plot_montage_and_trace_pairs(\n",
    "    imaging_trials,\n",
    "    [COLOR_SALINE, COLOR_HIST],\n",
    "    montage_grid_shape=None,\n",
    "    trace_ylim=[-1, 1],\n",
    "    trace_xlim=[-50, 1400],\n",
    "    tiff_out=\"figs/hist_lhl20240306_\",\n",
    "    pdf_out=\"figs/hist_lhl20240306.pdf\",\n",
    ")"
   ]
  }
 ],
 "metadata": {
  "kernelspec": {
   "display_name": "Python 3 (ipykernel)",
   "language": "python",
   "name": "python3"
  },
  "language_info": {
   "codemirror_mode": {
    "name": "ipython",
    "version": 3
   },
   "file_extension": ".py",
   "mimetype": "text/x-python",
   "name": "python",
   "nbconvert_exporter": "python",
   "pygments_lexer": "ipython3",
   "version": "3.11.7"
  }
 },
 "nbformat": 4,
 "nbformat_minor": 4
}
