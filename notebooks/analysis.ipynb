{
 "cells": [
  {
   "cell_type": "markdown",
   "metadata": {},
   "source": [
    "# Minimal analysis\n",
    "---\n",
    "\n",
    "#### Overview\n",
    "Processes timelapse data from intrinsic imaging experiments on mice.\n",
    "\n",
    "#### Outline\n",
    "1. Collect experimental data and process csv\n",
    "\n",
    "#### Packages"
   ]
  },
  {
   "cell_type": "code",
   "execution_count": 1,
   "metadata": {},
   "outputs": [],
   "source": [
    "from pathlib import Path\n",
    "\n",
    "from natsort import natsorted\n",
    "import numpy as np\n",
    "import pandas as pd\n",
    "import matplotlib.pyplot as plt"
   ]
  },
  {
   "cell_type": "markdown",
   "metadata": {},
   "source": [
    "#### Local modules"
   ]
  },
  {
   "cell_type": "code",
   "execution_count": 2,
   "metadata": {},
   "outputs": [],
   "source": [
    "import sys\n",
    "\n",
    "dir_code = \"../scripts/\"\n",
    "if dir_code not in sys.path:\n",
    "    sys.path.insert(-1, dir_code)\n",
    "\n",
    "from parse_csv import (\n",
    "    parse_csv,\n",
    "    process_data\n",
    ")"
   ]
  },
  {
   "cell_type": "markdown",
   "metadata": {},
   "source": [
    "## Collect experimental data and process csv"
   ]
  },
  {
   "cell_type": "markdown",
   "metadata": {},
   "source": [
    "#### Parse csv"
   ]
  },
  {
   "cell_type": "code",
   "execution_count": 3,
   "metadata": {},
   "outputs": [
    {
     "data": {
      "text/html": [
       "<div>\n",
       "<style scoped>\n",
       "    .dataframe tbody tr th:only-of-type {\n",
       "        vertical-align: middle;\n",
       "    }\n",
       "\n",
       "    .dataframe tbody tr th {\n",
       "        vertical-align: top;\n",
       "    }\n",
       "\n",
       "    .dataframe thead th {\n",
       "        text-align: right;\n",
       "    }\n",
       "</style>\n",
       "<table border=\"1\" class=\"dataframe\">\n",
       "  <thead>\n",
       "    <tr style=\"text-align: right;\">\n",
       "      <th></th>\n",
       "      <th>time</th>\n",
       "      <th>camera</th>\n",
       "      <th>LED1</th>\n",
       "      <th>LED2</th>\n",
       "      <th>stim</th>\n",
       "    </tr>\n",
       "  </thead>\n",
       "  <tbody>\n",
       "    <tr>\n",
       "      <th>0</th>\n",
       "      <td>0.0000</td>\n",
       "      <td>0.058552</td>\n",
       "      <td>0.005713</td>\n",
       "      <td>0.344660</td>\n",
       "      <td>0.237692</td>\n",
       "    </tr>\n",
       "    <tr>\n",
       "      <th>1</th>\n",
       "      <td>0.0002</td>\n",
       "      <td>0.058552</td>\n",
       "      <td>0.005713</td>\n",
       "      <td>0.419409</td>\n",
       "      <td>0.268622</td>\n",
       "    </tr>\n",
       "    <tr>\n",
       "      <th>2</th>\n",
       "      <td>0.0004</td>\n",
       "      <td>0.058552</td>\n",
       "      <td>0.004424</td>\n",
       "      <td>0.455495</td>\n",
       "      <td>0.273777</td>\n",
       "    </tr>\n",
       "    <tr>\n",
       "      <th>3</th>\n",
       "      <td>0.0006</td>\n",
       "      <td>0.058552</td>\n",
       "      <td>0.005713</td>\n",
       "      <td>0.483848</td>\n",
       "      <td>0.316307</td>\n",
       "    </tr>\n",
       "    <tr>\n",
       "      <th>4</th>\n",
       "      <td>0.0008</td>\n",
       "      <td>0.058552</td>\n",
       "      <td>0.005713</td>\n",
       "      <td>0.503179</td>\n",
       "      <td>0.320173</td>\n",
       "    </tr>\n",
       "    <tr>\n",
       "      <th>5</th>\n",
       "      <td>0.0010</td>\n",
       "      <td>0.058552</td>\n",
       "      <td>0.005713</td>\n",
       "      <td>0.523800</td>\n",
       "      <td>0.351104</td>\n",
       "    </tr>\n",
       "    <tr>\n",
       "      <th>6</th>\n",
       "      <td>0.0012</td>\n",
       "      <td>0.058552</td>\n",
       "      <td>0.005713</td>\n",
       "      <td>0.536687</td>\n",
       "      <td>0.353681</td>\n",
       "    </tr>\n",
       "    <tr>\n",
       "      <th>7</th>\n",
       "      <td>0.0014</td>\n",
       "      <td>0.058552</td>\n",
       "      <td>0.005713</td>\n",
       "      <td>0.548286</td>\n",
       "      <td>0.392345</td>\n",
       "    </tr>\n",
       "  </tbody>\n",
       "</table>\n",
       "</div>"
      ],
      "text/plain": [
       "     time    camera      LED1      LED2      stim\n",
       "0  0.0000  0.058552  0.005713  0.344660  0.237692\n",
       "1  0.0002  0.058552  0.005713  0.419409  0.268622\n",
       "2  0.0004  0.058552  0.004424  0.455495  0.273777\n",
       "3  0.0006  0.058552  0.005713  0.483848  0.316307\n",
       "4  0.0008  0.058552  0.005713  0.503179  0.320173\n",
       "5  0.0010  0.058552  0.005713  0.523800  0.351104\n",
       "6  0.0012  0.058552  0.005713  0.536687  0.353681\n",
       "7  0.0014  0.058552  0.005713  0.548286  0.392345"
      ]
     },
     "execution_count": 3,
     "metadata": {},
     "output_type": "execute_result"
    }
   ],
   "source": [
    "# location where all experimental data is kept\n",
    "dir_experiments = Path(\"/Users/ryanlane/Projects/brain_imaging/data_experimental/\")\n",
    "\n",
    "# path to a particular (or set of) experiment(s) for analysis\n",
    "date = \"2024-02-14\"\n",
    "expt = \"exp3_1\"\n",
    "fp_csv = natsorted((dir_experiments/date/expt).glob(\"*.csv\"))[0]\n",
    "fp_tif = natsorted((dir_experiments/date/expt).glob(\"*.tif\"))[0]\n",
    "\n",
    "# parse csv and show a preview\n",
    "df_daq = parse_csv(fp_csv)\n",
    "df_daq.head(8)"
   ]
  },
  {
   "cell_type": "markdown",
   "metadata": {},
   "source": [
    "#### Process csv"
   ]
  },
  {
   "cell_type": "code",
   "execution_count": 4,
   "metadata": {},
   "outputs": [
    {
     "data": {
      "text/html": [
       "<div>\n",
       "<style scoped>\n",
       "    .dataframe tbody tr th:only-of-type {\n",
       "        vertical-align: middle;\n",
       "    }\n",
       "\n",
       "    .dataframe tbody tr th {\n",
       "        vertical-align: top;\n",
       "    }\n",
       "\n",
       "    .dataframe thead th {\n",
       "        text-align: right;\n",
       "    }\n",
       "</style>\n",
       "<table border=\"1\" class=\"dataframe\">\n",
       "  <thead>\n",
       "    <tr style=\"text-align: right;\">\n",
       "      <th></th>\n",
       "      <th>frame</th>\n",
       "      <th>stimulated</th>\n",
       "      <th>time</th>\n",
       "      <th>frametime</th>\n",
       "      <th>framerate</th>\n",
       "    </tr>\n",
       "  </thead>\n",
       "  <tbody>\n",
       "    <tr>\n",
       "      <th>28665</th>\n",
       "      <td>10</td>\n",
       "      <td>False</td>\n",
       "      <td>5.7330</td>\n",
       "      <td>0.2002</td>\n",
       "      <td>4.995005</td>\n",
       "    </tr>\n",
       "    <tr>\n",
       "      <th>29666</th>\n",
       "      <td>11</td>\n",
       "      <td>False</td>\n",
       "      <td>5.9332</td>\n",
       "      <td>0.2002</td>\n",
       "      <td>4.995005</td>\n",
       "    </tr>\n",
       "    <tr>\n",
       "      <th>30667</th>\n",
       "      <td>12</td>\n",
       "      <td>False</td>\n",
       "      <td>6.1334</td>\n",
       "      <td>0.2002</td>\n",
       "      <td>4.995005</td>\n",
       "    </tr>\n",
       "    <tr>\n",
       "      <th>31668</th>\n",
       "      <td>13</td>\n",
       "      <td>False</td>\n",
       "      <td>6.3336</td>\n",
       "      <td>0.2000</td>\n",
       "      <td>5.000000</td>\n",
       "    </tr>\n",
       "    <tr>\n",
       "      <th>32668</th>\n",
       "      <td>14</td>\n",
       "      <td>True</td>\n",
       "      <td>6.5336</td>\n",
       "      <td>0.2002</td>\n",
       "      <td>4.995005</td>\n",
       "    </tr>\n",
       "    <tr>\n",
       "      <th>33669</th>\n",
       "      <td>15</td>\n",
       "      <td>True</td>\n",
       "      <td>6.7338</td>\n",
       "      <td>0.2002</td>\n",
       "      <td>4.995005</td>\n",
       "    </tr>\n",
       "    <tr>\n",
       "      <th>34670</th>\n",
       "      <td>16</td>\n",
       "      <td>True</td>\n",
       "      <td>6.9340</td>\n",
       "      <td>0.2002</td>\n",
       "      <td>4.995005</td>\n",
       "    </tr>\n",
       "    <tr>\n",
       "      <th>35671</th>\n",
       "      <td>17</td>\n",
       "      <td>True</td>\n",
       "      <td>7.1342</td>\n",
       "      <td>0.2002</td>\n",
       "      <td>4.995005</td>\n",
       "    </tr>\n",
       "  </tbody>\n",
       "</table>\n",
       "</div>"
      ],
      "text/plain": [
       "       frame  stimulated    time  frametime  framerate\n",
       "28665     10       False  5.7330     0.2002   4.995005\n",
       "29666     11       False  5.9332     0.2002   4.995005\n",
       "30667     12       False  6.1334     0.2002   4.995005\n",
       "31668     13       False  6.3336     0.2000   5.000000\n",
       "32668     14        True  6.5336     0.2002   4.995005\n",
       "33669     15        True  6.7338     0.2002   4.995005\n",
       "34670     16        True  6.9340     0.2002   4.995005\n",
       "35671     17        True  7.1342     0.2002   4.995005"
      ]
     },
     "execution_count": 4,
     "metadata": {},
     "output_type": "execute_result"
    }
   ],
   "source": [
    "# hope this works\n",
    "df_frames = process_data(df_daq)\n",
    "\n",
    "# show preview of processed DataFrame around a stimulation event\n",
    "i_stim = df_frames[\"stimulated\"].argmax()\n",
    "df_frames.iloc[i_stim-4:i_stim+4]"
   ]
  },
  {
   "cell_type": "markdown",
   "metadata": {},
   "source": [
    "## Math"
   ]
  },
  {
   "cell_type": "code",
   "execution_count": null,
   "metadata": {},
   "outputs": [],
   "source": []
  }
 ],
 "metadata": {
  "kernelspec": {
   "display_name": "Python 3 (ipykernel)",
   "language": "python",
   "name": "python3"
  },
  "language_info": {
   "codemirror_mode": {
    "name": "ipython",
    "version": 3
   },
   "file_extension": ".py",
   "mimetype": "text/x-python",
   "name": "python",
   "nbconvert_exporter": "python",
   "pygments_lexer": "ipython3",
   "version": "3.12.1"
  }
 },
 "nbformat": 4,
 "nbformat_minor": 4
}
