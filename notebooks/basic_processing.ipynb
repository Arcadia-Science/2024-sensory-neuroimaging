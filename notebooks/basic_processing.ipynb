{
 "cells": [
  {
   "cell_type": "markdown",
   "metadata": {},
   "source": [
    "# First pass at image processing\n",
    "\n",
    "1. Motion correction (FIJI)\n",
    "2. Bleach correction (FIJI)\n",
    "3. Load data into python, load ryan's sync pulse CSV to get the stim timing\n",
    "4. for each stim pulse, average the stim pulse frames\n",
    "5. for each stim pulse, collect a few pre-stim samples and average those\n",
    "6. for each stim pulse, subtract pre-stim average from stim average\n",
    "7. Average the subtracted images across however many trials we did"
   ]
  },
  {
   "cell_type": "markdown",
   "metadata": {},
   "source": [
    "## Load image"
   ]
  },
  {
   "cell_type": "code",
   "execution_count": null,
   "metadata": {},
   "outputs": [],
   "source": [
    "import skimage as ski\n",
    "import pandas as pd\n",
    "import numpy as np\n",
    "\n",
    "spamming_exp = False # True for spamming experiment, False for 5s On/10s off experiment\n",
    "if spamming_exp:\n",
    "    img = ski.io.imread('/Users/ilya_arcadia/Neuroimaging/Data/DUP_right_blue_spamming_1_MMStack_Default_aligned_bleachcorr.ome.tif') # ignore_frames_beginning = 200\n",
    "    ignore_frames_beginning = 200 # ignore first N frames (due to motion etc)\n",
    "else:\n",
    "    img = ski.io.imread('/Users/ilya_arcadia/Neuroimaging/Data/right_blue_1_MMStack_Default_aligned_bleachcorr.ome.tif') # ignore_frames_beginning = 0\n",
    "    ignore_frames_beginning = 0 # ignore first N frames (due to motion etc)\n",
    "\n",
    "img = img[ignore_frames_beginning:]"
   ]
  },
  {
   "cell_type": "markdown",
   "metadata": {},
   "source": [
    "## Load sync pulse data from DAQ"
   ]
  },
  {
   "cell_type": "code",
   "execution_count": null,
   "metadata": {},
   "outputs": [],
   "source": [
    "min_stim_length = 3 # minimum length of pinch (in frames)\n",
    "\n",
    "if spamming_exp:\n",
    "    sync_file = pd.read_csv('/Users/ilya_arcadia/Neuroimaging/Data/right_blue_spamming_processed.txt', index_col=0)\n",
    "else:\n",
    "    sync_file = pd.read_csv('/Users/ilya_arcadia/Neuroimaging/Data/right_blue_processed.txt', index_col=0)\n",
    "\n",
    "sync_file['pinch'] = sync_file['pinch'].astype(int) # convert True to 1 and False to 0\n",
    "\n",
    "# find indices of sync pulse onset\n",
    "onset_idx = sync_file.index[(np.diff(sync_file['pinch'], prepend=0) > 0)]\n",
    "offset_idx = sync_file.index[(np.diff(sync_file['pinch'], prepend=0) < 0)]\n",
    "\n",
    "stim_frames_start, stim_frames_end = [], []\n",
    "for on, off in zip(onset_idx, offset_idx):\n",
    "    if off - on > min_stim_length and on > ignore_frames_beginning:\n",
    "        stim_frames_start.append(on-ignore_frames_beginning)\n",
    "        stim_frames_end.append(off-ignore_frames_beginning)\n",
    "print('pinch start: ', end='')\n",
    "print(stim_frames_start)\n",
    "print('pinch end: ', end='')\n",
    "print(stim_frames_end)"
   ]
  },
  {
   "cell_type": "markdown",
   "metadata": {},
   "source": [
    "## Process image"
   ]
  },
  {
   "cell_type": "code",
   "execution_count": null,
   "metadata": {},
   "outputs": [],
   "source": [
    "n_bg_frames = 3 if spamming_exp else 100\n",
    "max_intensity_diff = 1000 # ignore pixels with > N intensity difference because these are motion artifacts\n",
    "imgs_subtracted = []\n",
    "for s,e in zip(stim_frames_start, stim_frames_end):\n",
    "    img_stim = img[s:e]\n",
    "    img_bg = img[s-1-n_bg_frames:s-1]\n",
    "    img_stim_avg = img_stim.mean(axis=0)\n",
    "    img_bg_avg = img_bg.mean(axis=0)\n",
    "    img_stim_avg_sub = img_stim_avg - img_bg_avg\n",
    "    # remove outlier pixels\n",
    "    img_stim_avg_sub[img_stim_avg_sub > max_intensity_diff] = 0\n",
    "    img_stim_avg_sub[img_stim_avg_sub < -max_intensity_diff] = 0\n",
    "    img_stim_avg_sub = img_stim_avg_sub - np.median(img_stim_avg_sub)\n",
    "    imgs_subtracted.append(img_stim_avg_sub)\n",
    "\n",
    "imgs_subtracted = np.array(imgs_subtracted)\n",
    "\n",
    "ski.io.imshow(imgs_subtracted.mean(axis=0), cmap='gray', vmin=-50, vmax=50)\n"
   ]
  }
 ],
 "metadata": {
  "kernelspec": {
   "display_name": "neuro",
   "language": "python",
   "name": "python3"
  },
  "language_info": {
   "codemirror_mode": {
    "name": "ipython",
    "version": 3
   },
   "file_extension": ".py",
   "mimetype": "text/x-python",
   "name": "python",
   "nbconvert_exporter": "python",
   "pygments_lexer": "ipython3",
   "version": "3.11.7"
  }
 },
 "nbformat": 4,
 "nbformat_minor": 2
}
