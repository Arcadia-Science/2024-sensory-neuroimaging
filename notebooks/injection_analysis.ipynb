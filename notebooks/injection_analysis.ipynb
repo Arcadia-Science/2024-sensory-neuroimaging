{
 "cells": [
  {
   "cell_type": "markdown",
   "metadata": {},
   "source": [
    "# Analyze whole-brain activity\n",
    "* Uses `ImagingTrialLoader` to load data"
   ]
  },
  {
   "cell_type": "code",
   "execution_count": null,
   "metadata": {},
   "outputs": [],
   "source": [
    "from neuroprocessing.imagingtrials import ImagingTrialLoader\n",
    "import matplotlib.pyplot as plt\n",
    "import numpy as np\n",
    "params = {\n",
    "        \"downsample_factor\": 8,\n",
    "        \"aligner_target_num_features\": 700,\n",
    "        \"secs_before_stim\": 60, # only process frames starting at X seconds before stimulus\n",
    "        \"preprocess_prefix\": \"aligned_downsampled_\",\n",
    "        \"process_prefix\": 'processed_',\n",
    "        \"s3fs_toplvl_path\": \"/Users/ilya_arcadia/arcadia-neuroimaging-pruritogens/Videos\",\n",
    "        \"local_toplvl_path\": \"/Users/ilya_arcadia/Neuroimaging_local/Processed/Injections/\",\n",
    "        \"load_from_s3\": False,\n",
    "        \"save_to_s3\": False,\n",
    "        'crop_px' : 20,\n",
    "        'bottom_percentile' : 5\n",
    "        }\n",
    "\n",
    "trials = ImagingTrialLoader(params)\n",
    "exp_dates, trial_names = trials.filter_exp_and_trial_dirs(# exp_dir=\"2024-02-29\", \n",
    "                                                          limb = \"LHL\",)\n",
    "                                                          # injection_type=\".*istinj*\")\n",
    "masks = trials.load_mask_files()\n",
    "traces = trials.load_traces()\n",
    "sync_infos = trials.get_sync_infos()\n",
    "# Plot the traces\n",
    "\n",
    "fig, ax = plt.subplots()\n",
    "for trace, exp_date, trial_name, sync in zip(traces, exp_dates, trial_names, sync_infos):\n",
    "    t = (np.arange(0, len(trace))) / (sync['framerate_hz'] / params['downsample_factor']) - params['secs_before_stim']\n",
    "    ax.plot(t, trace, label=exp_date + ' ' + trial_name)\n",
    "# legend to the right of the plot\n",
    "ax.legend(loc='upper left', bbox_to_anchor=(1, 1))\n",
    "ax.axvline(x=0, color='r', linestyle='--')\n",
    "\n",
    "# plot masks\n",
    "# fig, axs = plt.subplots(ncols=len(masks))\n",
    "# for ax, mask, exp_date, trial_name in zip(axs, masks, exp_dates, trial_names):\n",
    "#     ax.imshow(mask, cmap='gray')\n"
   ]
  },
  {
   "cell_type": "markdown",
   "metadata": {},
   "source": [
    "# Quick script to calculate FFT of signal"
   ]
  },
  {
   "cell_type": "code",
   "execution_count": null,
   "metadata": {},
   "outputs": [],
   "source": [
    "## FFT of the ROI\n",
    "import numpy as np\n",
    "import matplotlib.pyplot as plt\n",
    "# get roi at center of image\n",
    "center = np.array(img.shape) // 2\n",
    "roi = img[:,center[1]-50:center[1]+50, center[2]-50:center[2]+50]\n",
    "roi_mean = np.mean(roi, axis=(1,2))\n",
    "# calculate heart rate using FFT\n",
    "from scipy.signal import find_peaks\n",
    "from scipy.fft import fft, fftfreq\n",
    "\n",
    "fs = 10 # Hz\n",
    "t_orig = np.arange(0, len(roi_mean)) / fs\n",
    "roi_mean = roi_mean - np.mean(roi_mean)\n",
    "N = len(roi_mean)\n",
    "yf = fft(roi_mean)\n",
    "yf = 2.0/N * np.abs(yf[0:N//2])\n",
    "\n",
    "xf = fftfreq(N, 1/fs)[:N//2]\n",
    "f, axs = plt.subplots(2, 1)\n",
    "axs[0].plot(roi_mean)\n",
    "axs[0].set_xlim(0, 200)\n",
    "axs[1].plot(xf, yf)\n",
    "plt.xlim(0.5,3)\n",
    "plt.ylim(0, 3)\n",
    "\n",
    "# find peaks\n",
    "peaks, _ = find_peaks(yf, height=5, distance=10)\n",
    "plt.plot(xf[peaks], yf[peaks], \"x\")"
   ]
  }
 ],
 "metadata": {
  "kernelspec": {
   "display_name": "Python 3 (ipykernel)",
   "language": "python",
   "name": "python3"
  },
  "language_info": {
   "codemirror_mode": {
    "name": "ipython",
    "version": 3
   },
   "file_extension": ".py",
   "mimetype": "text/x-python",
   "name": "python",
   "nbconvert_exporter": "python",
   "pygments_lexer": "ipython3",
   "version": "3.11.7"
  }
 },
 "nbformat": 4,
 "nbformat_minor": 4
}
